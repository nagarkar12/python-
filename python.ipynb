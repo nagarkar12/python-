{
 "cells": [
  {
   "cell_type": "markdown",
   "id": "d9169dca-0f57-43d7-8dc3-b93abdeb956a",
   "metadata": {},
   "source": [
    "#Q2. provid example of how perdefind keywords are used in a program"
   ]
  },
  {
   "cell_type": "code",
   "execution_count": 1,
   "id": "ba913e80-4c3f-44d7-b86b-15dd021226ff",
   "metadata": {},
   "outputs": [
    {
     "name": "stdout",
     "output_type": "stream",
     "text": [
      "a is positive\n"
     ]
    }
   ],
   "source": [
    "#1.if,elif,else\n",
    "a=10\n",
    "if a>0:\n",
    "    print(\"a is positive\")\n",
    "elif a==0:\n",
    "    print(\"a is zero\")\n",
    "else:\n",
    "    print(\"a is negative\")"
   ]
  },
  {
   "cell_type": "code",
   "execution_count": 2,
   "id": "367d7f30-0cd5-4c5d-adf1-194256588085",
   "metadata": {},
   "outputs": [
    {
     "name": "stdout",
     "output_type": "stream",
     "text": [
      "0\n",
      "1\n",
      "2\n",
      "4\n",
      "0\n",
      "1\n",
      "2\n"
     ]
    }
   ],
   "source": [
    "#for,while,break,continue\n",
    "for i in range(5):\n",
    "    if i == 3:\n",
    "        continue  # Skip the rest of the loop when i is 3\n",
    "    print(i)\n",
    "\n",
    "j = 0\n",
    "while j < 5:\n",
    "    if j == 3:\n",
    "        break  # Exit the loop when j is 3\n",
    "    print(j)\n",
    "    j += 1"
   ]
  },
  {
   "cell_type": "code",
   "execution_count": 3,
   "id": "e6c8664b-2306-4219-8329-46ca826a7479",
   "metadata": {},
   "outputs": [
    {
     "name": "stdout",
     "output_type": "stream",
     "text": [
      "8\n"
     ]
    }
   ],
   "source": [
    "#def, return \n",
    "def add(a, b):\n",
    "    return a + b\n",
    "\n",
    "result = add(3, 5)\n",
    "print(result) "
   ]
  },
  {
   "cell_type": "code",
   "execution_count": 5,
   "id": "46dc4c51-7469-48ba-9adc-08ac99ab4bae",
   "metadata": {},
   "outputs": [
    {
     "name": "stdout",
     "output_type": "stream",
     "text": [
      "inside function\n",
      "outside function\n"
     ]
    }
   ],
   "source": [
    "#class,self,__init__\n",
    "class demo():\n",
    "    def __init__(self):\n",
    "        print(\"inside function\")\n",
    "    def put(self):\n",
    "        print(\"outside function\")\n",
    "d1=demo()\n",
    "d1.put()"
   ]
  },
  {
   "cell_type": "code",
   "execution_count": 6,
   "id": "cb137a10-7ff7-49a1-84e4-ef978de1a0fa",
   "metadata": {},
   "outputs": [
    {
     "name": "stdout",
     "output_type": "stream",
     "text": [
      "3.141592653589793\n",
      "4.0\n"
     ]
    }
   ],
   "source": [
    "#import, from, as\n",
    "import math\n",
    "from math import sqrt as square_root\n",
    "print(math.pi)\n",
    "print(square_root(16))"
   ]
  },
  {
   "cell_type": "code",
   "execution_count": 7,
   "id": "45f8916d-88e1-4589-a134-73554c149cac",
   "metadata": {},
   "outputs": [
    {
     "name": "stdout",
     "output_type": "stream",
     "text": [
      "Cannot divide by zero\n",
      "this block executed\n"
     ]
    }
   ],
   "source": [
    "#try, except, finally\n",
    "try:\n",
    "    result=10/0\n",
    "except ZeroDivisionError:\n",
    "    print(\"Cannot divide by zero\")\n",
    "finally:\n",
    "    print(\"this block executed\")"
   ]
  },
  {
   "cell_type": "markdown",
   "id": "9d74e85c-8617-452a-8c39-74387579fd04",
   "metadata": {},
   "source": [
    "#Q3Compare and contrast mutable and immutable objects in Python with examples."
   ]
  },
  {
   "cell_type": "code",
   "execution_count": 8,
   "id": "763353e5-c248-41e3-89f0-e0bbfd0cf10d",
   "metadata": {},
   "outputs": [
    {
     "name": "stdout",
     "output_type": "stream",
     "text": [
      "[10, 2, 3]\n"
     ]
    }
   ],
   "source": [
    "#List\n",
    "my_list = [1, 2, 3]\n",
    "my_list[0] = 10  # Modifies the first element\n",
    "print(my_list)  "
   ]
  },
  {
   "cell_type": "code",
   "execution_count": 9,
   "id": "24620cee-261a-4cee-bc76-5bd526694ea8",
   "metadata": {},
   "outputs": [
    {
     "name": "stdout",
     "output_type": "stream",
     "text": [
      "{'a': 10, 'b': 2}\n"
     ]
    }
   ],
   "source": [
    "#Dictionary\n",
    "my_dict = {'a': 1, 'b': 2}\n",
    "my_dict['a'] = 10  # Modifies the value associated with key 'a'\n",
    "print(my_dict) "
   ]
  },
  {
   "cell_type": "code",
   "execution_count": 10,
   "id": "617ddef4-471a-4cbf-b785-a3853d0f5e04",
   "metadata": {},
   "outputs": [
    {
     "name": "stdout",
     "output_type": "stream",
     "text": [
      "Hello\n"
     ]
    }
   ],
   "source": [
    "#String \n",
    "my_string = \"hello\"\n",
    "# my_string[0] = \"H\"  # This would raise an error because strings are immutable\n",
    "my_string = \"Hello\"  # Reassigning creates a new string object\n",
    "print(my_string)  "
   ]
  },
  {
   "cell_type": "code",
   "execution_count": 11,
   "id": "84db4b5a-66ef-4be3-90f3-be47fc85d0d0",
   "metadata": {},
   "outputs": [
    {
     "name": "stdout",
     "output_type": "stream",
     "text": [
      "(10, 2, 3)\n"
     ]
    }
   ],
   "source": [
    "#Tuple\n",
    "my_tuple = (1, 2, 3)\n",
    "# my_tuple[0] = 10  # This would raise an error because tuples are immutable\n",
    "new_tuple = (10, 2, 3)  # Creating a new tuple\n",
    "print(new_tuple) "
   ]
  },
  {
   "cell_type": "markdown",
   "id": "334d3c7b-5f2d-404d-bf22-de95516437f6",
   "metadata": {},
   "source": [
    "#Q4. Discuss the different types of operators in Python and provide examples of how they are used"
   ]
  },
  {
   "cell_type": "code",
   "execution_count": 12,
   "id": "d536d9b5-4391-4a40-a003-6751559446bd",
   "metadata": {},
   "outputs": [
    {
     "name": "stdout",
     "output_type": "stream",
     "text": [
      "13\n",
      "7\n",
      "30\n",
      "3.3333333333333335\n",
      "1\n",
      "1000\n",
      "3\n"
     ]
    }
   ],
   "source": [
    "#Arithmetic operators\n",
    "a = 10\n",
    "b = 3\n",
    "\n",
    "print(a + b)  # Addition\n",
    "print(a - b)  # Subtraction\n",
    "print(a * b)  # Multiplication\n",
    "print(a / b)  # Division\n",
    "print(a % b)  # Modulus\n",
    "print(a ** b) # Exponentiation\n",
    "print(a // b) # Floor Division"
   ]
  },
  {
   "cell_type": "code",
   "execution_count": 13,
   "id": "c710a856-2af8-469c-a912-67c6aef6c71f",
   "metadata": {},
   "outputs": [
    {
     "name": "stdout",
     "output_type": "stream",
     "text": [
      "False\n",
      "True\n",
      "True\n",
      "False\n",
      "True\n",
      "False\n"
     ]
    }
   ],
   "source": [
    "#comparison operators\n",
    "a = 10\n",
    "b = 3\n",
    "\n",
    "print(a == b)   # Equal to\n",
    "print(a != b)   # Not equal to\n",
    "print(a > b)    # Greater that\n",
    "print(a < b)    # Less than\n",
    "print(a >= b)   # Greater than or equal to\n",
    "print(a <= b)   # Less than or equal to"
   ]
  },
  {
   "cell_type": "code",
   "execution_count": 14,
   "id": "2a5e86ca-867d-4002-abee-d5e7ce712211",
   "metadata": {},
   "outputs": [
    {
     "name": "stdout",
     "output_type": "stream",
     "text": [
      "15\n",
      "12\n",
      "24\n",
      "6.0\n",
      "1.0\n",
      "3.0\n",
      "1.0\n"
     ]
    }
   ],
   "source": [
    "#Assignment operators\n",
    "a = 10\n",
    "a += 5  # Equivalent to a = a + 5\n",
    "print(a)  \n",
    "\n",
    "a -= 3  # Equivalent to a = a - 3\n",
    "print(a)  \n",
    "\n",
    "a *= 2  # Equivalent to a = a * 2\n",
    "print(a)  \n",
    "\n",
    "a /= 4  # Equivalent to a = a / 4\n",
    "print(a)  \n",
    "\n",
    "a %= 5  # Equivalent to a = a % 5\n",
    "print(a)  \n",
    "\n",
    "a *= 3  # Equivalent to a = a * 3\n",
    "print(a)  \n",
    "\n",
    "a //= 2  # Equivalent to a = a // 2\n",
    "print(a)  "
   ]
  },
  {
   "cell_type": "code",
   "execution_count": 16,
   "id": "d519c8d8-56c5-40f2-b9c7-473269aeb9c0",
   "metadata": {},
   "outputs": [
    {
     "name": "stdout",
     "output_type": "stream",
     "text": [
      "False\n",
      "True\n",
      "False\n"
     ]
    }
   ],
   "source": [
    "#Logical operators\n",
    "a = True\n",
    "b = False\n",
    "\n",
    "print(a and b)  # Logical AND\n",
    "print(a or b)   # Logical OR\n",
    "print(not a)    # Logical NOT"
   ]
  },
  {
   "cell_type": "code",
   "execution_count": 15,
   "id": "b36ac293-1625-4c66-b471-eb3227c12cba",
   "metadata": {},
   "outputs": [
    {
     "name": "stdout",
     "output_type": "stream",
     "text": [
      "0\n",
      "14\n",
      "14\n",
      "-11\n",
      "40\n",
      "2\n"
     ]
    }
   ],
   "source": [
    "#Citwise operators\n",
    "a = 10  # In binary: 1010\n",
    "b = 4   # In binary: 0100\n",
    "\n",
    "print(a & b)  # AND\n",
    "print(a | b)  # OR\n",
    "print(a ^ b)  # XOR\n",
    "print(~a)     # NOT\n",
    "print(a << 2) # Left shift\n",
    "print(a >> 2) # Right shift"
   ]
  },
  {
   "cell_type": "code",
   "execution_count": 17,
   "id": "3979a808-5568-41e4-8fc7-2ccd743fa375",
   "metadata": {},
   "outputs": [
    {
     "name": "stdout",
     "output_type": "stream",
     "text": [
      "True\n",
      "False\n",
      "True\n"
     ]
    }
   ],
   "source": [
    "#Membership operators\n",
    "my_list = [1, 2, 3, 4, 5]\n",
    "\n",
    "print(3 in my_list)     \n",
    "print(6 in my_list)      \n",
    "print(6 not in my_list) "
   ]
  },
  {
   "cell_type": "code",
   "execution_count": 18,
   "id": "68695ca8-a14a-4464-a601-409b69a9280f",
   "metadata": {},
   "outputs": [
    {
     "name": "stdout",
     "output_type": "stream",
     "text": [
      "True\n",
      "False\n",
      "True\n"
     ]
    }
   ],
   "source": [
    "# idntity operators\n",
    "a = [1, 2, 3]\n",
    "b = a\n",
    "c = a[:]\n",
    "\n",
    "print(a is b)     # a and b reference the same list\n",
    "print(a is c)     # a and c reference different lists\n",
    "print(a is not c) "
   ]
  },
  {
   "cell_type": "markdown",
   "id": "9a805b8c-ccdc-4833-ac34-57bd7b941693",
   "metadata": {},
   "source": [
    "5. Explain the concept of type casting in Python with examples."
   ]
  },
  {
   "cell_type": "code",
   "execution_count": 19,
   "id": "ed6cb2fd-5dee-4b60-9a6d-3bf07d720aa5",
   "metadata": {},
   "outputs": [
    {
     "name": "stdout",
     "output_type": "stream",
     "text": [
      "123\n",
      "<class 'str'>\n"
     ]
    }
   ],
   "source": [
    "#Integer to String:\n",
    "num = 123\n",
    "num_str = str(num)\n",
    "print(num_str)  \n",
    "print(type(num_str))  "
   ]
  },
  {
   "cell_type": "code",
   "execution_count": 20,
   "id": "dac62e8f-89d9-4908-86dd-a5ffe0f62e99",
   "metadata": {},
   "outputs": [
    {
     "name": "stdout",
     "output_type": "stream",
     "text": [
      "456\n",
      "<class 'int'>\n"
     ]
    }
   ],
   "source": [
    "#2. String to Integer:*\n",
    "num_str = \"456\"\n",
    "num = int(num_str)\n",
    "print(num)  \n",
    "print(type(num))"
   ]
  },
  {
   "cell_type": "code",
   "execution_count": 21,
   "id": "7f787ac3-9ae8-4e74-8fa6-01e4c1a84840",
   "metadata": {},
   "outputs": [
    {
     "name": "stdout",
     "output_type": "stream",
     "text": [
      "3\n",
      "<class 'int'>\n"
     ]
    }
   ],
   "source": [
    "#3. Float to Integer:\n",
    "num_float = 3.14\n",
    "num_int = int(num_float)\n",
    "print(num_int)  \n",
    "print(type(num_int))"
   ]
  },
  {
   "cell_type": "code",
   "execution_count": 22,
   "id": "715f45cc-ef91-4672-8e5c-27f17be0631f",
   "metadata": {},
   "outputs": [
    {
     "name": "stdout",
     "output_type": "stream",
     "text": [
      "7.89\n",
      "<class 'float'>\n"
     ]
    }
   ],
   "source": [
    "#5. String to Float:\n",
    "num_str = \"7.89\"\n",
    "num_float = float(num_str)\n",
    "print(num_float)  \n",
    "print(type(num_float)) "
   ]
  },
  {
   "cell_type": "code",
   "execution_count": 23,
   "id": "6dab6b58-f28e-4643-b589-268a321dda8d",
   "metadata": {},
   "outputs": [
    {
     "name": "stdout",
     "output_type": "stream",
     "text": [
      "1\n",
      "<class 'int'>\n"
     ]
    }
   ],
   "source": [
    "#6. Boolean to Integer:\n",
    "bool_val = True\n",
    "num = int(bool_val)\n",
    "print(num) \n",
    "print(type(num)) "
   ]
  },
  {
   "cell_type": "code",
   "execution_count": 24,
   "id": "9994b841-8bb2-426b-b964-7e665cb47b93",
   "metadata": {},
   "outputs": [
    {
     "name": "stdout",
     "output_type": "stream",
     "text": [
      "False\n",
      "<class 'bool'>\n"
     ]
    }
   ],
   "source": [
    "#7. Integer to Boolean:*\n",
    "num = 0\n",
    "bool_val = bool(num)\n",
    "print(bool_val)  \n",
    "print(type(bool_val))"
   ]
  },
  {
   "cell_type": "markdown",
   "id": "3452e5d5-9e16-4c05-ac0e-a22533651fb7",
   "metadata": {},
   "source": [
    "6. How do conditional statements work in Python? Illustrate with examples."
   ]
  },
  {
   "cell_type": "code",
   "execution_count": 25,
   "id": "3825a24f-122e-4af1-b449-c027a10a3304",
   "metadata": {},
   "outputs": [
    {
     "name": "stdout",
     "output_type": "stream",
     "text": [
      "x is greater than 5\n"
     ]
    }
   ],
   "source": [
    "#if,is-else,if-elif-else\n",
    "x = 10\n",
    "\n",
    "# if statement\n",
    "if x > 5:\n",
    "    print(\"x is greater than 5\")\n",
    "\n",
    "# elif statement\n",
    "elif x == 5:\n",
    "    print(\"x is equal to 5\")\n",
    "\n",
    "# else statement\n",
    "else:\n",
    "    print(\"x is less than 5\")"
   ]
  },
  {
   "cell_type": "code",
   "execution_count": 26,
   "id": "974ce617-ec7f-4d7a-b4d5-59468aa9a33d",
   "metadata": {},
   "outputs": [
    {
     "name": "stdout",
     "output_type": "stream",
     "text": [
      "y is between 15 and 25\n"
     ]
    }
   ],
   "source": [
    "#nested\n",
    "y = 20\n",
    "\n",
    "if y > 15:\n",
    "    if y > 25:\n",
    "        print(\"y is greater than 25\")\n",
    "    else:\n",
    "        print(\"y is between 15 and 25\")\n",
    "else:\n",
    "    print(\"y is 15 or less\")"
   ]
  },
  {
   "cell_type": "markdown",
   "id": "d878a437-f698-4442-bc03-6dd649c52c4d",
   "metadata": {},
   "source": [
    "Q7.Describe the different types of loops in Python and their use cases with examples."
   ]
  },
  {
   "cell_type": "code",
   "execution_count": 27,
   "id": "a64d5314-1711-4772-9cca-406902c62903",
   "metadata": {},
   "outputs": [
    {
     "name": "stdout",
     "output_type": "stream",
     "text": [
      "hello\n",
      "hello\n",
      "hello\n",
      "hello\n",
      "hello\n"
     ]
    }
   ],
   "source": [
    "#for loop\n",
    "a=\"hello\"\n",
    "for i in a:\n",
    "    print(a)"
   ]
  },
  {
   "cell_type": "code",
   "execution_count": 28,
   "id": "e42d2566-bb2d-4e6f-a34b-ff9525babade",
   "metadata": {},
   "outputs": [
    {
     "name": "stdout",
     "output_type": "stream",
     "text": [
      "15\n"
     ]
    }
   ],
   "source": [
    "#while loop\n",
    "a=1\n",
    "while (a<=20):\n",
    "    if(a%3==0 and a%5==0):\n",
    "        print(a)\n",
    "    a=a+1"
   ]
  },
  {
   "cell_type": "code",
   "execution_count": null,
   "id": "8cac6d75-d0a5-4d59-bcd7-dedebd06a9f7",
   "metadata": {},
   "outputs": [],
   "source": []
  }
 ],
 "metadata": {
  "kernelspec": {
   "display_name": "Python 3 (ipykernel)",
   "language": "python",
   "name": "python3"
  },
  "language_info": {
   "codemirror_mode": {
    "name": "ipython",
    "version": 3
   },
   "file_extension": ".py",
   "mimetype": "text/x-python",
   "name": "python",
   "nbconvert_exporter": "python",
   "pygments_lexer": "ipython3",
   "version": "3.10.8"
  }
 },
 "nbformat": 4,
 "nbformat_minor": 5
}
